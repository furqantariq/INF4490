{
 "cells": [
  {
   "cell_type": "markdown",
   "metadata": {},
   "source": [
    "# INF4490 - Biologically-inspired Computing\n",
    "\n",
    "\n",
    "# Furqan Tariq (furqant)\n",
    "\n",
    "___"
   ]
  },
  {
   "cell_type": "code",
   "execution_count": 11,
   "metadata": {
    "collapsed": true
   },
   "outputs": [],
   "source": [
    "%run movements.py\n",
    "import mlp"
   ]
  },
  {
   "cell_type": "markdown",
   "metadata": {},
   "source": [
    "## Multilayer Perceptron\n",
    "\n",
    "#### MLP with 6 hidden nodes"
   ]
  },
  {
   "cell_type": "code",
   "execution_count": 12,
   "metadata": {},
   "outputs": [
    {
     "name": "stdout",
     "output_type": "stream",
     "text": [
      "Confusion matrix: \n",
      " [[ 11.   0.   0.   1.   0.   0.   0.   1.]\n",
      " [  0.   9.   0.   0.   0.   1.   0.   0.]\n",
      " [  0.   0.  18.   0.   0.   0.   0.   0.]\n",
      " [  0.   1.   0.  14.   1.   0.   0.   3.]\n",
      " [  0.   0.   0.   0.  15.   0.   0.   0.]\n",
      " [  0.   0.   0.   0.   0.  16.   0.   0.]\n",
      " [  0.   0.   1.   2.   0.   0.   8.   0.]\n",
      " [  0.   0.   0.   0.   0.   0.   0.   9.]]\n",
      "Percentage Correct:  90.0900900901\n"
     ]
    }
   ],
   "source": [
    "hidden = 6\n",
    "\n",
    "net = mlp.mlp(train, train_targets, hidden)\n",
    "net.earlystopping(train, train_targets, valid, valid_targets)\n",
    "net.print_confusion(test,test_targets)\n"
   ]
  },
  {
   "cell_type": "markdown",
   "metadata": {},
   "source": [
    "#### MLP with 8 hidden nodes"
   ]
  },
  {
   "cell_type": "code",
   "execution_count": 13,
   "metadata": {},
   "outputs": [
    {
     "name": "stdout",
     "output_type": "stream",
     "text": [
      "Confusion matrix: \n",
      " [[ 11.   0.   0.   0.   0.   0.   0.   1.]\n",
      " [  0.  10.   0.   1.   0.   0.   0.   0.]\n",
      " [  0.   0.  18.   0.   0.   0.   0.   0.]\n",
      " [  0.   0.   0.  15.   1.   0.   0.   1.]\n",
      " [  0.   0.   0.   1.  15.   1.   0.   0.]\n",
      " [  0.   0.   0.   0.   0.  16.   0.   0.]\n",
      " [  0.   0.   1.   0.   0.   0.   8.   0.]\n",
      " [  0.   0.   0.   0.   0.   0.   0.  11.]]\n",
      "Percentage Correct:  93.6936936937\n"
     ]
    }
   ],
   "source": [
    "hidden = 8\n",
    "\n",
    "net = mlp.mlp(train, train_targets, hidden)\n",
    "net.earlystopping(train, train_targets, valid, valid_targets)\n",
    "net.print_confusion(test,test_targets)"
   ]
  },
  {
   "cell_type": "markdown",
   "metadata": {},
   "source": [
    "#### MLP with 12 hidden nodes"
   ]
  },
  {
   "cell_type": "code",
   "execution_count": 14,
   "metadata": {},
   "outputs": [
    {
     "name": "stdout",
     "output_type": "stream",
     "text": [
      "Confusion matrix: \n",
      " [[ 11.   0.   0.   0.   0.   0.   0.   1.]\n",
      " [  0.  10.   0.   0.   0.   1.   0.   0.]\n",
      " [  0.   0.  19.   0.   0.   0.   0.   0.]\n",
      " [  0.   0.   0.  16.   1.   0.   0.   2.]\n",
      " [  0.   0.   0.   1.  15.   1.   0.   0.]\n",
      " [  0.   0.   0.   0.   0.  14.   0.   0.]\n",
      " [  0.   0.   0.   0.   0.   1.   8.   0.]\n",
      " [  0.   0.   0.   0.   0.   0.   0.  10.]]\n",
      "Percentage Correct:  92.7927927928\n"
     ]
    }
   ],
   "source": [
    "hidden = 12\n",
    "\n",
    "net = mlp.mlp(train, train_targets, hidden)\n",
    "net.earlystopping(train, train_targets, valid, valid_targets)\n",
    "net.print_confusion(test,test_targets)"
   ]
  },
  {
   "cell_type": "markdown",
   "metadata": {},
   "source": [
    "#### MLP Answers\n",
    "\n",
    "* In my findings the minimum hidden nodes required for a network to classify are 4.\n",
    "\n",
    "* By running algorithm several time, i found that mostly predicted mistaken classes are the neighbouring classes to actual classes in confusion matrix.\n"
   ]
  },
  {
   "cell_type": "markdown",
   "metadata": {},
   "source": [
    "## K Fold Cross-validation"
   ]
  },
  {
   "cell_type": "code",
   "execution_count": 15,
   "metadata": {},
   "outputs": [
    {
     "name": "stdout",
     "output_type": "stream",
     "text": [
      "Fold 0 Percentage Correct: 97.2972972972973\n",
      "Fold 1 Percentage Correct: 100.0\n",
      "Fold 2 Percentage Correct: 86.48648648648648\n",
      "Fold 3 Percentage Correct: 97.2972972972973\n",
      "Fold 4 Percentage Correct: 97.2972972972973\n",
      "Fold 5 Percentage Correct: 97.2972972972973\n",
      "\n",
      "Mean:  95.9459459459\n",
      "Standard Dev. 4.34398682928\n"
     ]
    }
   ],
   "source": [
    "hidden = 12\n",
    "k=6\n",
    "net = mlp.mlp(train, train_targets, hidden)\n",
    "net.kfold(train, train_targets, valid, valid_targets, k)"
   ]
  }
 ],
 "metadata": {
  "kernelspec": {
   "display_name": "Python 3",
   "language": "python",
   "name": "python3"
  },
  "language_info": {
   "codemirror_mode": {
    "name": "ipython",
    "version": 3
   },
   "file_extension": ".py",
   "mimetype": "text/x-python",
   "name": "python",
   "nbconvert_exporter": "python",
   "pygments_lexer": "ipython3",
   "version": "3.6.1"
  }
 },
 "nbformat": 4,
 "nbformat_minor": 2
}
