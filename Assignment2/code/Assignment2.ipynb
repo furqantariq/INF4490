{
 "cells": [
  {
   "cell_type": "markdown",
   "metadata": {},
   "source": [
    "# INF4490 - Biologically-inspired Computing\n",
    "\n",
    "\n",
    "\n",
    "# Assignment # 2\n",
    "\n",
    "# Furqan Tariq (furqant)\n",
    "\n",
    "___"
   ]
  },
  {
   "cell_type": "code",
   "execution_count": 1,
   "metadata": {},
   "outputs": [
    {
     "name": "stdout",
     "output_type": "stream",
     "text": [
      "Confusion matrix: \n",
      " [[ 18.   0.   0.   0.   0.   0.   0.   0.]\n",
      " [  0.  13.   0.   0.   0.   0.   0.   0.]\n",
      " [  0.   0.  16.   0.   0.   0.   0.   0.]\n",
      " [  0.   0.   0.   8.   0.   0.   0.   1.]\n",
      " [  0.   0.   0.   0.  16.   1.   0.   0.]\n",
      " [  0.   0.   0.   0.   0.  13.   2.   0.]\n",
      " [  0.   0.   0.   0.   0.   0.  14.   0.]\n",
      " [  0.   0.   0.   0.   0.   0.   0.   9.]]\n",
      "Percentage Correct:  96.3963963964\n"
     ]
    }
   ],
   "source": [
    "%run movements.py"
   ]
  },
  {
   "cell_type": "markdown",
   "metadata": {},
   "source": [
    "## Multilayer Perceptron\n",
    "\n",
    "#### MLP with 6 hidden nodes"
   ]
  },
  {
   "cell_type": "code",
   "execution_count": 2,
   "metadata": {},
   "outputs": [
    {
     "name": "stdout",
     "output_type": "stream",
     "text": [
      "Confusion matrix: \n",
      " [[ 18.   0.   0.   0.   0.   0.   0.   0.]\n",
      " [  0.  13.   0.   0.   0.   0.   1.   0.]\n",
      " [  0.   0.  16.   0.   0.   0.   0.   0.]\n",
      " [  0.   0.   0.   8.   0.   0.   0.   0.]\n",
      " [  0.   0.   0.   0.  16.   1.   0.   0.]\n",
      " [  0.   0.   0.   0.   0.  13.   1.   0.]\n",
      " [  0.   0.   0.   0.   0.   0.  14.   0.]\n",
      " [  0.   0.   0.   0.   0.   0.   0.  10.]]\n",
      "Percentage Correct:  97.2972972973\n"
     ]
    }
   ],
   "source": [
    "hidden = 6\n",
    "\n",
    "net = mlp.mlp(train, train_targets, hidden)\n",
    "net.earlystopping(train, train_targets, valid, valid_targets)\n",
    "net.print_confusion(test,test_targets)\n"
   ]
  },
  {
   "cell_type": "markdown",
   "metadata": {},
   "source": [
    "#### MLP with 8 hidden nodes"
   ]
  },
  {
   "cell_type": "code",
   "execution_count": 3,
   "metadata": {},
   "outputs": [
    {
     "name": "stdout",
     "output_type": "stream",
     "text": [
      "Confusion matrix: \n",
      " [[ 18.   0.   0.   0.   1.   1.   0.   0.]\n",
      " [  0.  12.   0.   0.   0.   0.   0.   0.]\n",
      " [  0.   0.  16.   0.   0.   0.   0.   0.]\n",
      " [  0.   0.   0.   8.   0.   0.   0.   0.]\n",
      " [  0.   0.   0.   0.  15.   0.   0.   0.]\n",
      " [  0.   1.   0.   0.   0.  13.   2.   0.]\n",
      " [  0.   0.   0.   0.   0.   0.  14.   0.]\n",
      " [  0.   0.   0.   0.   0.   0.   0.  10.]]\n",
      "Percentage Correct:  95.4954954955\n"
     ]
    }
   ],
   "source": [
    "hidden = 8\n",
    "\n",
    "net = mlp.mlp(train, train_targets, hidden)\n",
    "net.earlystopping(train, train_targets, valid, valid_targets)\n",
    "net.print_confusion(test,test_targets)"
   ]
  },
  {
   "cell_type": "markdown",
   "metadata": {},
   "source": [
    "#### MLP with 12 hidden nodes"
   ]
  },
  {
   "cell_type": "code",
   "execution_count": 4,
   "metadata": {},
   "outputs": [
    {
     "name": "stdout",
     "output_type": "stream",
     "text": [
      "Confusion matrix: \n",
      " [[ 18.   0.   0.   0.   0.   0.   0.   0.]\n",
      " [  0.  12.   0.   0.   0.   0.   0.   0.]\n",
      " [  0.   0.  16.   0.   0.   0.   0.   0.]\n",
      " [  0.   0.   0.   8.   0.   0.   0.   1.]\n",
      " [  0.   0.   0.   0.  16.   1.   0.   0.]\n",
      " [  0.   1.   0.   0.   0.  13.   1.   0.]\n",
      " [  0.   0.   0.   0.   0.   0.  15.   0.]\n",
      " [  0.   0.   0.   0.   0.   0.   0.   9.]]\n",
      "Percentage Correct:  96.3963963964\n"
     ]
    }
   ],
   "source": [
    "hidden = 12\n",
    "\n",
    "net = mlp.mlp(train, train_targets, hidden)\n",
    "net.earlystopping(train, train_targets, valid, valid_targets)\n",
    "net.print_confusion(test,test_targets)"
   ]
  },
  {
   "cell_type": "markdown",
   "metadata": {},
   "source": [
    "#### MLP Answers\n",
    "\n",
    "* In my implementation the minimum hidden nodes are 4 that are sufficient for the network to classify well.\n",
    "\n",
    "* By running algorithm several time, i found that mostly predicted mistaken classes are the neighbouring classes to actual classes in confusion matrix.\n"
   ]
  },
  {
   "cell_type": "markdown",
   "metadata": {},
   "source": [
    "### K Fold Cross-validation"
   ]
  },
  {
   "cell_type": "code",
   "execution_count": 5,
   "metadata": {},
   "outputs": [
    {
     "name": "stdout",
     "output_type": "stream",
     "text": [
      "Fold 0 Percentage Correct: 94.5945945945946\n",
      "Fold 1 Percentage Correct: 89.1891891891892\n",
      "Fold 2 Percentage Correct: 100.0\n",
      "Fold 3 Percentage Correct: 100.0\n",
      "Fold 4 Percentage Correct: 100.0\n",
      "Fold 5 Percentage Correct: 100.0\n"
     ]
    }
   ],
   "source": [
    "hidden = 12\n",
    "k=6\n",
    "net = mlp.mlp(train, train_targets, hidden)\n",
    "net.kfold(train, train_targets, valid, valid_targets, k)"
   ]
  }
 ],
 "metadata": {
  "kernelspec": {
   "display_name": "Python 3",
   "language": "python",
   "name": "python3"
  },
  "language_info": {
   "codemirror_mode": {
    "name": "ipython",
    "version": 3
   },
   "file_extension": ".py",
   "mimetype": "text/x-python",
   "name": "python",
   "nbconvert_exporter": "python",
   "pygments_lexer": "ipython3",
   "version": "3.6.1"
  }
 },
 "nbformat": 4,
 "nbformat_minor": 2
}
